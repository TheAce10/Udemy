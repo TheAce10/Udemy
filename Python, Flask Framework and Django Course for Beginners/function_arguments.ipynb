{
 "cells": [
  {
   "cell_type": "code",
   "execution_count": 28,
   "metadata": {},
   "outputs": [
    {
     "name": "stdout",
     "output_type": "stream",
     "text": [
      "['q'] <class 'list'>\n",
      "w <class 'str'>\n",
      "{'e'} <class 'set'>\n",
      "r <class 'str'>\n",
      "t <class 'str'>\n",
      "y <class 'str'>\n",
      "1 <class 'int'>\n",
      "2.3 <class 'float'>\n",
      "Global, Local, Non-Local.ipynb\n"
     ]
    }
   ],
   "source": [
    "def fff(*case):\n",
    "    '''Global, Local, Non-Local.ipynb'''\n",
    "    for arg in case:\n",
    "        print(arg,type(arg))\n",
    "\n",
    "fff(['q'],('w'),{'e'},'r','t','y',1,2.3)\n",
    "print(fff.__doc__)"
   ]
  }
 ],
 "metadata": {
  "kernelspec": {
   "display_name": "Python 3.9.12 ('base')",
   "language": "python",
   "name": "python3"
  },
  "language_info": {
   "codemirror_mode": {
    "name": "ipython",
    "version": 3
   },
   "file_extension": ".py",
   "mimetype": "text/x-python",
   "name": "python",
   "nbconvert_exporter": "python",
   "pygments_lexer": "ipython3",
   "version": "3.9.12"
  },
  "orig_nbformat": 4,
  "vscode": {
   "interpreter": {
    "hash": "b302cdd1e032ee910f5c889c3360c28564c92ad4f326fc3102e39fbe47faee66"
   }
  }
 },
 "nbformat": 4,
 "nbformat_minor": 2
}
