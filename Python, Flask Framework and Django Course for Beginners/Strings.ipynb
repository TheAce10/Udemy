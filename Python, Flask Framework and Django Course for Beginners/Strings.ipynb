{
 "cells": [
  {
   "cell_type": "code",
   "execution_count": 1,
   "metadata": {},
   "outputs": [
    {
     "name": "stdout",
     "output_type": "stream",
     "text": [
      "<class 'str'>\n"
     ]
    }
   ],
   "source": [
    "a= \"jbvivb\"\n",
    "print(type(a))"
   ]
  },
  {
   "cell_type": "code",
   "execution_count": 5,
   "metadata": {},
   "outputs": [
    {
     "name": "stdout",
     "output_type": "stream",
     "text": [
      "Welcome\n",
      "Welcome\n",
      "Welcome\n",
      "Welcome \n",
      "to the world of \n",
      "python programming\n",
      "\n"
     ]
    }
   ],
   "source": [
    "mystr1= 'Welcome'\n",
    "mystr2= \"Welcome\"\n",
    "mystr3= '''Welcome'''\n",
    "print(mystr1,mystr2,mystr3,sep=\"\\n\")\n",
    "\n",
    "# triple quote str can extend multiple lines\n",
    "mystr3= \"\"\"Welcome \n",
    "to the world of \n",
    "python programming\n",
    "\"\"\"\n",
    "print(mystr3)"
   ]
  },
  {
   "cell_type": "code",
   "execution_count": 8,
   "metadata": {},
   "outputs": [
    {
     "name": "stdout",
     "output_type": "stream",
     "text": [
      "mystr =  language\n",
      "l\n",
      "e\n",
      "angu\n",
      "a\n"
     ]
    },
    {
     "ename": "IndexError",
     "evalue": "string index out of range",
     "output_type": "error",
     "traceback": [
      "\u001b[1;31m---------------------------------------------------------------------------\u001b[0m",
      "\u001b[1;31mIndexError\u001b[0m                                Traceback (most recent call last)",
      "\u001b[1;32mc:\\Users\\hp\\Documents\\LEARN\\PRACTICE\\Python 3\\Udemy\\Python, Flask Framework and Django Course for Beginners\\Strings.ipynb Cell 3\u001b[0m in \u001b[0;36m<cell line: 8>\u001b[1;34m()\u001b[0m\n\u001b[0;32m      <a href='vscode-notebook-cell:/c%3A/Users/hp/Documents/LEARN/PRACTICE/Python%203/Udemy/Python%2C%20Flask%20Framework%20and%20Django%20Course%20for%20Beginners/Strings.ipynb#X23sZmlsZQ%3D%3D?line=5'>6</a>\u001b[0m \u001b[39mprint\u001b[39m(mystr[\u001b[39m1\u001b[39m:\u001b[39m5\u001b[39m])\n\u001b[0;32m      <a href='vscode-notebook-cell:/c%3A/Users/hp/Documents/LEARN/PRACTICE/Python%203/Udemy/Python%2C%20Flask%20Framework%20and%20Django%20Course%20for%20Beginners/Strings.ipynb#X23sZmlsZQ%3D%3D?line=6'>7</a>\u001b[0m \u001b[39mprint\u001b[39m(mystr[\u001b[39m5\u001b[39m:\u001b[39m-\u001b[39m\u001b[39m2\u001b[39m])\n\u001b[1;32m----> <a href='vscode-notebook-cell:/c%3A/Users/hp/Documents/LEARN/PRACTICE/Python%203/Udemy/Python%2C%20Flask%20Framework%20and%20Django%20Course%20for%20Beginners/Strings.ipynb#X23sZmlsZQ%3D%3D?line=7'>8</a>\u001b[0m \u001b[39mprint\u001b[39m(mystr[\u001b[39m10\u001b[39;49m])\n",
      "\u001b[1;31mIndexError\u001b[0m: string index out of range"
     ]
    }
   ],
   "source": [
    "mystr= 'language'\n",
    "print('mystr = ',mystr)\n",
    "\n",
    "print(mystr[0])\n",
    "print(mystr[-1])\n",
    "print(mystr[1:5])\n",
    "print(mystr[5:-2])\n",
    "print(mystr[10])"
   ]
  },
  {
   "cell_type": "code",
   "execution_count": 9,
   "metadata": {},
   "outputs": [
    {
     "ename": "TypeError",
     "evalue": "'str' object does not support item assignment",
     "output_type": "error",
     "traceback": [
      "\u001b[1;31m---------------------------------------------------------------------------\u001b[0m",
      "\u001b[1;31mTypeError\u001b[0m                                 Traceback (most recent call last)",
      "\u001b[1;32mc:\\Users\\hp\\Documents\\LEARN\\PRACTICE\\Python 3\\Udemy\\Python, Flask Framework and Django Course for Beginners\\Strings.ipynb Cell 4\u001b[0m in \u001b[0;36m<cell line: 7>\u001b[1;34m()\u001b[0m\n\u001b[0;32m      <a href='vscode-notebook-cell:/c%3A/Users/hp/Documents/LEARN/PRACTICE/Python%203/Udemy/Python%2C%20Flask%20Framework%20and%20Django%20Course%20for%20Beginners/Strings.ipynb#X24sZmlsZQ%3D%3D?line=2'>3</a>\u001b[0m mystr\u001b[39m=\u001b[39m \u001b[39m'\u001b[39m\u001b[39mlanguage\u001b[39m\u001b[39m'\u001b[39m\n\u001b[0;32m      <a href='vscode-notebook-cell:/c%3A/Users/hp/Documents/LEARN/PRACTICE/Python%203/Udemy/Python%2C%20Flask%20Framework%20and%20Django%20Course%20for%20Beginners/Strings.ipynb#X24sZmlsZQ%3D%3D?line=4'>5</a>\u001b[0m mystr\u001b[39m=\u001b[39m \u001b[39m\"\u001b[39m\u001b[39mprogramming\u001b[39m\u001b[39m\"\u001b[39m\n\u001b[1;32m----> <a href='vscode-notebook-cell:/c%3A/Users/hp/Documents/LEARN/PRACTICE/Python%203/Udemy/Python%2C%20Flask%20Framework%20and%20Django%20Course%20for%20Beginners/Strings.ipynb#X24sZmlsZQ%3D%3D?line=6'>7</a>\u001b[0m mystr[\u001b[39m3\u001b[39m]\u001b[39m=\u001b[39m \u001b[39m\"\u001b[39m\u001b[39m2\u001b[39m\u001b[39m\"\u001b[39m\n",
      "\u001b[1;31mTypeError\u001b[0m: 'str' object does not support item assignment"
     ]
    }
   ],
   "source": [
    "# strings are immutable\n",
    "# but different strings can be assigned\n",
    "mystr= 'language'\n",
    "\n",
    "mystr= \"programming\"\n",
    "\n",
    "mystr[3]= \"2\""
   ]
  },
  {
   "cell_type": "code",
   "execution_count": 15,
   "metadata": {},
   "outputs": [
    {
     "name": "stdout",
     "output_type": "stream",
     "text": [
      "***Welcome***\n"
     ]
    }
   ],
   "source": [
    "# concatenation of str\n",
    "mystr1= 'Welcome'\n",
    "mystr2= '***'\n",
    "\n",
    "print(mystr2+mystr1+mystr2)\n",
    "\n",
    "print(mystr2 *10)\n"
   ]
  },
  {
   "cell_type": "code",
   "execution_count": 17,
   "metadata": {},
   "outputs": [
    {
     "name": "stdout",
     "output_type": "stream",
     "text": [
      "W\n",
      "e\n",
      "l\n",
      "c\n",
      "o\n",
      "m\n",
      "e\n"
     ]
    }
   ],
   "source": [
    "# Iterating through a str\n",
    "for letters in mystr1:\n",
    "    print(letters)"
   ]
  },
  {
   "cell_type": "code",
   "execution_count": 18,
   "metadata": {},
   "outputs": [
    {
     "name": "stdout",
     "output_type": "stream",
     "text": [
      "True\n",
      "False\n"
     ]
    }
   ],
   "source": [
    "print('l' in \"hello\")\n",
    "print('l' not in \"hello\")"
   ]
  },
  {
   "cell_type": "code",
   "execution_count": null,
   "metadata": {},
   "outputs": [],
   "source": [
    "# Built in Functions\n",
    "mystr= 'University'\n",
    "\n",
    "# Using enumerate()\n",
    "l_enumerate= list(enumerate(mystr))\n",
    "\n",
    "# using character count\n",
    "len(mystr)\n"
   ]
  },
  {
   "cell_type": "code",
   "execution_count": 19,
   "metadata": {},
   "outputs": [
    {
     "name": "stdout",
     "output_type": "stream",
     "text": [
      "tell me \"What's your name?\"\n",
      "tell me \"What's your name?\"\n",
      "tell me \"What's your name?\"\n"
     ]
    }
   ],
   "source": [
    "# string formatting using escape sequence\n",
    "\n",
    "# using triple quotes\n",
    "print('''tell me \"What's your name?\"''')\n",
    "\n",
    "# Escaping single quotes\n",
    "print('tell me \"What\\'s your name?\"')\n",
    "\n",
    "# Escaping double quotes\n",
    "print(\"tell me \\\"What's your name?\\\"\")"
   ]
  },
  {
   "cell_type": "code",
   "execution_count": 20,
   "metadata": {},
   "outputs": [
    {
     "name": "stdout",
     "output_type": "stream",
     "text": [
      "ABC written in ABC (HEX) represention\n"
     ]
    }
   ],
   "source": [
    "print(\"ABC written in \\x41\\x42\\x43 (HEX) represention\")"
   ]
  },
  {
   "cell_type": "code",
   "execution_count": 23,
   "metadata": {},
   "outputs": [
    {
     "name": "stdout",
     "output_type": "stream",
     "text": [
      "1,2,3\n",
      "2,1,3\n",
      "3,2,1\n"
     ]
    }
   ],
   "source": [
    "# formatting strings\n",
    "\n",
    "# format() method\n",
    "a,b,c= '1','2','3'\n",
    "\n",
    "# default(imlpicit) method\n",
    "print(\"{},{},{}\".format(a,b,c))\n",
    "\n",
    "# order using positional argument\n",
    "print(\"{1},{0},{2}\".format(a,b,c))\n",
    "\n",
    "# order using keyword argument\n",
    "print(\"{iii},{ii},{i}\".format(i=a,ii=b,iii=c))"
   ]
  },
  {
   "cell_type": "code",
   "execution_count": 33,
   "metadata": {},
   "outputs": [
    {
     "name": "stdout",
     "output_type": "stream",
     "text": [
      "Binary rep of 11 is 1011\n",
      "exponential rep: 1.566345e+03\n",
      "One third is: 0.333333\n"
     ]
    }
   ],
   "source": [
    "# formatting numbers\n",
    "print(\"Binary rep of {0} is {0:b}\".format(11))\n",
    "\n",
    "# formatting floats (standard form)\n",
    "print(\"exponential rep: {0:e}\".format(1566.345))\n",
    "\n",
    "# round off\n",
    "print(\"One third is: {0:3f}\".format(1/3))\n",
    "\n",
    "a= f\"{1351.635151:e}\""
   ]
  },
  {
   "cell_type": "code",
   "execution_count": 34,
   "metadata": {},
   "outputs": [
    {
     "name": "stdout",
     "output_type": "stream",
     "text": [
      "('good morning to all', 'GOOD MORNING TO ALL', 13, -1, 'gOOD moRNing tO everyone', 'gOOD moRNing tO alL')\n"
     ]
    }
   ],
   "source": [
    "# string methods\n",
    "a= \"gOOD moRNing tO alL\"\n",
    "print(f\"\"\"{a.lower(),\n",
    "a.upper(),\n",
    "a.find('tO'),\n",
    "a.find('to'),\n",
    "a.replace('alL','everyone'),\n",
    "a.replace('all','everyone')}\"\"\")"
   ]
  },
  {
   "cell_type": "code",
   "execution_count": null,
   "metadata": {},
   "outputs": [],
   "source": []
  },
  {
   "cell_type": "code",
   "execution_count": null,
   "metadata": {},
   "outputs": [],
   "source": []
  },
  {
   "cell_type": "code",
   "execution_count": null,
   "metadata": {},
   "outputs": [],
   "source": []
  },
  {
   "cell_type": "code",
   "execution_count": null,
   "metadata": {},
   "outputs": [],
   "source": []
  },
  {
   "cell_type": "code",
   "execution_count": null,
   "metadata": {},
   "outputs": [],
   "source": []
  },
  {
   "cell_type": "code",
   "execution_count": null,
   "metadata": {},
   "outputs": [],
   "source": []
  },
  {
   "cell_type": "code",
   "execution_count": null,
   "metadata": {},
   "outputs": [],
   "source": []
  },
  {
   "cell_type": "code",
   "execution_count": null,
   "metadata": {},
   "outputs": [],
   "source": []
  }
 ],
 "metadata": {
  "kernelspec": {
   "display_name": "Python 3.9.12 ('base')",
   "language": "python",
   "name": "python3"
  },
  "language_info": {
   "codemirror_mode": {
    "name": "ipython",
    "version": 3
   },
   "file_extension": ".py",
   "mimetype": "text/x-python",
   "name": "python",
   "nbconvert_exporter": "python",
   "pygments_lexer": "ipython3",
   "version": "3.9.12"
  },
  "orig_nbformat": 4,
  "vscode": {
   "interpreter": {
    "hash": "b302cdd1e032ee910f5c889c3360c28564c92ad4f326fc3102e39fbe47faee66"
   }
  }
 },
 "nbformat": 4,
 "nbformat_minor": 2
}
