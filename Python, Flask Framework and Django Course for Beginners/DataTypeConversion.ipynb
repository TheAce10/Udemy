{
 "cells": [
  {
   "cell_type": "code",
   "execution_count": 1,
   "metadata": {},
   "outputs": [
    {
     "name": "stdout",
     "output_type": "stream",
     "text": [
      "Type of  444.5 is <class 'float'>\n"
     ]
    }
   ],
   "source": [
    "# Implicit type conversion \n",
    "num_int= 123\n",
    "num_flt= 321.5\n",
    "\n",
    "num_new= num_int + num_flt\n",
    "print(\"Type of \",num_new,\"is\",type(num_new))"
   ]
  },
  {
   "cell_type": "code",
   "execution_count": null,
   "metadata": {},
   "outputs": [],
   "source": [
    "# Addition of string(higher) datatype and integer(lower) datatype\n",
    "num_str= '432'\n",
    "\n",
    "# Error implicit conversion will not here\n",
    "num_new= num_int + num_str\n",
    "print(\"Type of \",num_new,\"is\",type(num_new))"
   ]
  },
  {
   "cell_type": "code",
   "execution_count": 3,
   "metadata": {},
   "outputs": [
    {
     "name": "stdout",
     "output_type": "stream",
     "text": [
      "Type of  555 is <class 'int'>\n"
     ]
    }
   ],
   "source": [
    "# Explicit Type Conversion (TYpecasting)\n",
    "\n",
    "num_new= num_int + int(num_str)\n",
    "print(\"Type of \",num_new,\"is\",type(num_new))"
   ]
  },
  {
   "cell_type": "code",
   "execution_count": null,
   "metadata": {},
   "outputs": [],
   "source": []
  }
 ],
 "metadata": {
  "kernelspec": {
   "display_name": "Python 3 (ipykernel)",
   "language": "python",
   "name": "python3"
  },
  "language_info": {
   "codemirror_mode": {
    "name": "ipython",
    "version": 3
   },
   "file_extension": ".py",
   "mimetype": "text/x-python",
   "name": "python",
   "nbconvert_exporter": "python",
   "pygments_lexer": "ipython3",
   "version": "3.9.12"
  },
  "vscode": {
   "interpreter": {
    "hash": "b302cdd1e032ee910f5c889c3360c28564c92ad4f326fc3102e39fbe47faee66"
   }
  }
 },
 "nbformat": 4,
 "nbformat_minor": 2
}
