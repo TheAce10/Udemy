{
 "cells": [
  {
   "cell_type": "code",
   "execution_count": 10,
   "metadata": {},
   "outputs": [
    {
     "name": "stdout",
     "output_type": "stream",
     "text": [
      "{33, 66, 22, 55, 11, 44}\n",
      "{(21, 2, 1994), 'Agnibha', 101}\n",
      "{33, 11, 44, 22}\n"
     ]
    }
   ],
   "source": [
    "my_set= {11, 33, 66, 55, 44, 22}\n",
    "print(my_set)\n",
    "\n",
    "# set of mixed datatypes\n",
    "my_set1= {101, \"Agnibha\", (21,2,1994)}\n",
    "print(my_set1)\n",
    "#  duplicate values are not allowed\n",
    "my_set2={11,22,33,33,44,22}\n",
    "print(my_set2)"
   ]
  },
  {
   "cell_type": "code",
   "execution_count": 9,
   "metadata": {},
   "outputs": [
    {
     "name": "stdout",
     "output_type": "stream",
     "text": [
      "Jupyter\n"
     ]
    },
    {
     "data": {
      "text/plain": [
       "False"
      ]
     },
     "execution_count": 9,
     "metadata": {},
     "output_type": "execute_result"
    }
   ],
   "source": [
    "# sets \n",
    "print(\"Jupyter\")\n",
    "setA= {2,4,6}\n",
    "setB= {1,3,5,7,9}\n",
    "setA.add(8)\n",
    "setA.clear()\n",
    "setA.copy()\n",
    "setA.difference()\n",
    "setA.difference_update()\n",
    "setA.discard(2)\n",
    "setA.intersection(setB)\n",
    "setA.intersection_update(setB)\n",
    "setA.isdisjoint(setB)\n",
    "setA.issubset(setB)\n",
    "setA.issuperset(setB)\n"
   ]
  },
  {
   "cell_type": "code",
   "execution_count": null,
   "metadata": {},
   "outputs": [],
   "source": [
    "\n",
    "# Set cannot have mutable items\n",
    "# my_set4= {1, 2, [3]}\n",
    "\n",
    "#we can make a set from a list  \n",
    "my_set5= set([1,2,3,2])\n",
    "# print(my_set5)\n",
    "# print(type(my_set5))\n",
    "\n",
    "#we can make a list from a set\n",
    "my_list1= list({1,2,3,2})\n",
    "print(my_list1)\n",
    "print(type(my_list1))"
   ]
  },
  {
   "cell_type": "code",
   "execution_count": null,
   "metadata": {},
   "outputs": [],
   "source": [
    "# Operatoins on a set\n",
    "my_set1 = {11, 33,44,66,55}\n",
    "\n",
    "# set object does not support indexing\n",
    "# my_set1[0]\n",
    "\n",
    "# add an element\n",
    "my_set1.add(77)\n",
    "\n",
    "# add multiple elements\n",
    "my_set1.update([88,99,22])\n",
    "\n",
    "# add list and set\n",
    "my_set1.update([100,102], {103,104,105})"
   ]
  },
  {
   "cell_type": "code",
   "execution_count": 34,
   "metadata": {},
   "outputs": [],
   "source": [
    "# remove and discard\n",
    "my_set1= {11,33,44,55,66}\n",
    "\n",
    "my_set1.remove(66)\n",
    "# my_set1.remove(6) #error raised for input not present\n",
    "my_set1.discard(55)\n",
    "my_set1.discard(4) #no error raised for missing inputs\n"
   ]
  },
  {
   "cell_type": "code",
   "execution_count": 37,
   "metadata": {},
   "outputs": [
    {
     "name": "stdout",
     "output_type": "stream",
     "text": [
      "{33, 66, 55, 11, 44}\n",
      "33\n",
      "None\n",
      "set()\n"
     ]
    }
   ],
   "source": [
    "# Using pop\n",
    "my_set1= {11,33,44,55,66}\n",
    "print(my_set1)\n",
    "print(my_set1.pop())\n",
    "\n",
    "print(my_set1.clear())\n",
    "print(my_set1)"
   ]
  },
  {
   "cell_type": "code",
   "execution_count": null,
   "metadata": {},
   "outputs": [],
   "source": [
    "# Set operations\n",
    "my_set1= {0,1,2,3,4,5}\n",
    "my_set2= {4,5,6,7,8,9}\n",
    "print(my_set1,my_set2, sep='\\n')\n",
    "\n",
    "# use | operator for union\n",
    "print(my_set1 | my_set2)\n",
    "print(my_set2 | my_set1)\n",
    "print(my_set1.union(my_set2))\n",
    "print(my_set2.union(my_set1))\n",
    "\n",
    "#  use & operator for intersection\n",
    "print(my_set1 & my_set2)\n",
    "print(my_set2 & my_set1)\n",
    "print(my_set1.intersection(my_set2))\n",
    "print(my_set2.intersection(my_set1))"
   ]
  },
  {
   "cell_type": "code",
   "execution_count": 38,
   "metadata": {},
   "outputs": [
    {
     "name": "stdout",
     "output_type": "stream",
     "text": [
      "{0, 1, 2, 3}\n",
      "{8, 9, 6, 7}\n",
      "{0, 1, 2, 3}\n",
      "{8, 9, 6, 7}\n"
     ]
    }
   ],
   "source": [
    "# set operations - set difference\n",
    "my_set1= {0,1,2,3,4,5}\n",
    "my_set2= {4,5,6,7,8,9}\n",
    "\n",
    "print(my_set1 - my_set2)\n",
    "print(my_set2 - my_set1)\n",
    "print(my_set1.difference(my_set2))\n",
    "print(my_set2.difference(my_set1))"
   ]
  },
  {
   "cell_type": "code",
   "execution_count": 42,
   "metadata": {},
   "outputs": [
    {
     "name": "stdout",
     "output_type": "stream",
     "text": [
      "{0, 1, 2, 3, 6, 7, 8, 9}\n",
      "{0, 1, 2, 3, 6, 7, 8, 9}\n"
     ]
    },
    {
     "ename": "TypeError",
     "evalue": "unsupported operand type(s) for /: 'dict' and 'dict'",
     "output_type": "error",
     "traceback": [
      "\u001b[1;31m---------------------------------------------------------------------------\u001b[0m",
      "\u001b[1;31mTypeError\u001b[0m                                 Traceback (most recent call last)",
      "\u001b[1;32mc:\\Users\\hp\\Documents\\LEARN\\PRACTICE\\Python 3\\Udemy\\Python, Flask Framework and Django Course for Beginners\\Sets.ipynb Cell 9\u001b[0m in \u001b[0;36m<cell line: 6>\u001b[1;34m()\u001b[0m\n\u001b[0;32m      <a href='vscode-notebook-cell:/c%3A/Users/hp/Documents/LEARN/PRACTICE/Python%203/Udemy/Python%2C%20Flask%20Framework%20and%20Django%20Course%20for%20Beginners/Sets.ipynb#X11sZmlsZQ%3D%3D?line=3'>4</a>\u001b[0m a\u001b[39m=\u001b[39m {\u001b[39m'\u001b[39m\u001b[39ma\u001b[39m\u001b[39m'\u001b[39m:\u001b[39m'\u001b[39m\u001b[39mb\u001b[39m\u001b[39m'\u001b[39m}\n\u001b[0;32m      <a href='vscode-notebook-cell:/c%3A/Users/hp/Documents/LEARN/PRACTICE/Python%203/Udemy/Python%2C%20Flask%20Framework%20and%20Django%20Course%20for%20Beginners/Sets.ipynb#X11sZmlsZQ%3D%3D?line=4'>5</a>\u001b[0m b\u001b[39m=\u001b[39m {\u001b[39m'\u001b[39m\u001b[39ma\u001b[39m\u001b[39m'\u001b[39m:\u001b[39m'\u001b[39m\u001b[39mb\u001b[39m\u001b[39m'\u001b[39m}\n\u001b[1;32m----> <a href='vscode-notebook-cell:/c%3A/Users/hp/Documents/LEARN/PRACTICE/Python%203/Udemy/Python%2C%20Flask%20Framework%20and%20Django%20Course%20for%20Beginners/Sets.ipynb#X11sZmlsZQ%3D%3D?line=5'>6</a>\u001b[0m a \u001b[39m/\u001b[39;49m b\n",
      "\u001b[1;31mTypeError\u001b[0m: unsupported operand type(s) for /: 'dict' and 'dict'"
     ]
    }
   ],
   "source": [
    "# symetric difference\n",
    "my_set1= {0,1,2,3,4,5}\n",
    "my_set2= {4,5,6,7,8,9}\n",
    "\n",
    "print(my_set1 ^ my_set2)\n",
    "print(my_set2.symmetric_difference(my_set1))\n",
    "# a= {'a':'b'}\n",
    "# b= {'a':'b'}\n",
    "# a / b\n"
   ]
  },
  {
   "cell_type": "code",
   "execution_count": 43,
   "metadata": {},
   "outputs": [
    {
     "name": "stdout",
     "output_type": "stream",
     "text": [
      "True\n",
      "False\n"
     ]
    }
   ],
   "source": [
    "# set membership\n",
    "my_set1= {0,1,2,3,4,5}\n",
    "\n",
    "print(2 in my_set1)\n",
    "print(6 in my_set1)"
   ]
  },
  {
   "cell_type": "code",
   "execution_count": 45,
   "metadata": {},
   "outputs": [
    {
     "name": "stdout",
     "output_type": "stream",
     "text": [
      "6\n",
      "5\n",
      "0\n",
      "[0, 1, 2, 3, 4, 5]\n"
     ]
    }
   ],
   "source": [
    "# iterating through\n",
    "# for letter in set(\"welcome\"):\n",
    "    # print(letter)\n",
    "\n",
    "\n",
    "# built-in functions with set\n",
    "my_set1= {0,1,2,3,4,5}\n",
    "\n",
    "print(len(my_set1))\n",
    "print(max(my_set1))\n",
    "print(min(my_set1))\n",
    "print(sorted(my_set1))"
   ]
  },
  {
   "cell_type": "code",
   "execution_count": 48,
   "metadata": {},
   "outputs": [
    {
     "name": "stdout",
     "output_type": "stream",
     "text": [
      "<class 'tuple'>\n",
      "frozenset({1, 2, 3, 4})\n",
      "frozenset({3, 4, 5, 6})\n",
      "frozenset({1, 2})\n",
      "frozenset({1, 2, 3, 4, 5, 6})\n",
      "frozenset({3, 4})\n",
      "frozenset({1, 2, 5, 6})\n"
     ]
    },
    {
     "ename": "AttributeError",
     "evalue": "'frozenset' object has no attribute 'add'",
     "output_type": "error",
     "traceback": [
      "\u001b[1;31m---------------------------------------------------------------------------\u001b[0m",
      "\u001b[1;31mAttributeError\u001b[0m                            Traceback (most recent call last)",
      "\u001b[1;32mc:\\Users\\hp\\Documents\\LEARN\\PRACTICE\\Python 3\\Udemy\\Python, Flask Framework and Django Course for Beginners\\Sets.ipynb Cell 12\u001b[0m in \u001b[0;36m<cell line: 18>\u001b[1;34m()\u001b[0m\n\u001b[0;32m     <a href='vscode-notebook-cell:/c%3A/Users/hp/Documents/LEARN/PRACTICE/Python%203/Udemy/Python%2C%20Flask%20Framework%20and%20Django%20Course%20for%20Beginners/Sets.ipynb#X14sZmlsZQ%3D%3D?line=15'>16</a>\u001b[0m \u001b[39mprint\u001b[39m(my_set1\u001b[39m.\u001b[39mintersection(my_set2))\n\u001b[0;32m     <a href='vscode-notebook-cell:/c%3A/Users/hp/Documents/LEARN/PRACTICE/Python%203/Udemy/Python%2C%20Flask%20Framework%20and%20Django%20Course%20for%20Beginners/Sets.ipynb#X14sZmlsZQ%3D%3D?line=16'>17</a>\u001b[0m \u001b[39mprint\u001b[39m(my_set1\u001b[39m.\u001b[39msymmetric_difference(my_set2))\n\u001b[1;32m---> <a href='vscode-notebook-cell:/c%3A/Users/hp/Documents/LEARN/PRACTICE/Python%203/Udemy/Python%2C%20Flask%20Framework%20and%20Django%20Course%20for%20Beginners/Sets.ipynb#X14sZmlsZQ%3D%3D?line=17'>18</a>\u001b[0m my_set1\u001b[39m.\u001b[39;49madd(\u001b[39m1\u001b[39m)\n",
      "\u001b[1;31mAttributeError\u001b[0m: 'frozenset' object has no attribute 'add'"
     ]
    }
   ],
   "source": [
    "# python frozenset\n",
    "# Frozenset is anew class that has the characteristics of a set\n",
    "# but its elements cannot be changed once assigned\n",
    "\n",
    "my_set1= {0,1,2,3,4,5}\n",
    "my_set2= {4,5,6,7,8,9}\n",
    "\n",
    "a= 1,2,3,4,5,6\n",
    "print(type(a))\n",
    "my_set1= frozenset([1,2,3,4])\n",
    "my_set2= frozenset([3,4,5,6,])\n",
    "print(my_set1)\n",
    "print(my_set2)\n",
    "print(my_set1.difference(my_set2))\n",
    "print(my_set1.union(my_set2))\n",
    "print(my_set1.intersection(my_set2))\n",
    "print(my_set1.symmetric_difference(my_set2))\n",
    "# my_set1.add(1)"
   ]
  }
 ],
 "metadata": {
  "kernelspec": {
   "display_name": "Python 3.9.12 ('base')",
   "language": "python",
   "name": "python3"
  },
  "language_info": {
   "codemirror_mode": {
    "name": "ipython",
    "version": 3
   },
   "file_extension": ".py",
   "mimetype": "text/x-python",
   "name": "python",
   "nbconvert_exporter": "python",
   "pygments_lexer": "ipython3",
   "version": "3.9.12"
  },
  "orig_nbformat": 4,
  "vscode": {
   "interpreter": {
    "hash": "b302cdd1e032ee910f5c889c3360c28564c92ad4f326fc3102e39fbe47faee66"
   }
  }
 },
 "nbformat": 4,
 "nbformat_minor": 2
}
