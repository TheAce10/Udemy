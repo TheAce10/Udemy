{
 "cells": [
  {
   "cell_type": "code",
   "execution_count": null,
   "metadata": {},
   "outputs": [],
   "source": [
    "list= []\n",
    "tuple= ()\n",
    "set= {134}\n",
    "print(\"List= \",type(list), print(\"Tuple= \",type(tuple)),print(\"Set= \",type(set)))"
   ]
  },
  {
   "cell_type": "code",
   "execution_count": 7,
   "metadata": {},
   "outputs": [
    {
     "data": {
      "text/plain": [
       "33"
      ]
     },
     "execution_count": 7,
     "metadata": {},
     "output_type": "execute_result"
    }
   ],
   "source": [
    "# defining a list\n",
    "our_list= [44, 77, 11, 33]\n",
    "\n",
    "# get an iterator using iter() method\n",
    "our_iter= iter(our_list)\n",
    "\n",
    "# iterate through it using next() ethod\n",
    "next(our_iter)\n",
    "next(our_iter)\n",
    "next(our_iter)\n",
    "next(our_iter)\n",
    "next(our_iter)"
   ]
  },
  {
   "cell_type": "code",
   "execution_count": 8,
   "metadata": {},
   "outputs": [
    {
     "name": "stdout",
     "output_type": "stream",
     "text": [
      "Class to implement a iterator\n",
      "     of powers of two\n"
     ]
    }
   ],
   "source": [
    "class Pow_of_Two:\n",
    "    '''Class to implement a iterator\n",
    "     of powers of two'''\n",
    "    \n",
    "\n",
    "    def __init__(self, max= 0):\n",
    "        self.max= max\n",
    "\n",
    "    def __iter__(self):\n",
    "        self.n= 0\n",
    "        return self\n",
    "\n",
    "print(Pow_of_Two.__doc__)"
   ]
  }
 ],
 "metadata": {
  "kernelspec": {
   "display_name": "Python 3.9.12 ('base')",
   "language": "python",
   "name": "python3"
  },
  "language_info": {
   "codemirror_mode": {
    "name": "ipython",
    "version": 3
   },
   "file_extension": ".py",
   "mimetype": "text/x-python",
   "name": "python",
   "nbconvert_exporter": "python",
   "pygments_lexer": "ipython3",
   "version": "3.9.12"
  },
  "orig_nbformat": 4,
  "vscode": {
   "interpreter": {
    "hash": "b302cdd1e032ee910f5c889c3360c28564c92ad4f326fc3102e39fbe47faee66"
   }
  }
 },
 "nbformat": 4,
 "nbformat_minor": 2
}
