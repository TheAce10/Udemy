{
 "cells": [
  {
   "cell_type": "code",
   "execution_count": 2,
   "metadata": {},
   "outputs": [
    {
     "name": "stdout",
     "output_type": "stream",
     "text": [
      "x= Global scope\n",
      " second function x= Local2 scope\n",
      " first function x= Local scope\n"
     ]
    }
   ],
   "source": [
    "def func1():\n",
    "    x = \"Local scope\"\n",
    "\n",
    "    def funct2():\n",
    "        x = \"Local2 scope\"\n",
    "        print(f\" second function x= {x}\")\n",
    "    \n",
    "    funct2()\n",
    "    print(f\" first function x= {x}\")\n",
    "\n",
    "x= \"Global scope\"\n",
    "print(f\"x= {x}\")\n",
    "func1()\n",
    "print(f\"After fucntion call x= {x}\")"
   ]
  },
  {
   "cell_type": "code",
   "execution_count": 3,
   "metadata": {},
   "outputs": [
    {
     "name": "stdout",
     "output_type": "stream",
     "text": [
      "x= Global scope\n",
      " second function x= Local2 scope\n",
      " first function x= Local scope\n",
      "After fucntion call x= Local scope\n"
     ]
    }
   ],
   "source": [
    "# Global Keyword\n",
    "# used to reference the global scope\n",
    "def func1():\n",
    "    global x\n",
    "    x = \"Local scope\"\n",
    "\n",
    "    def funct2():\n",
    "        x = \"Local2 scope\"\n",
    "        print(f\" second function x= {x}\")\n",
    "    \n",
    "    funct2()\n",
    "    print(f\" first function x= {x}\")\n",
    "\n",
    "x= \"Global scope\"\n",
    "print(f\"x= {x}\")\n",
    "func1()\n",
    "print(f\"After fucntion call x= {x}\")"
   ]
  },
  {
   "cell_type": "code",
   "execution_count": 5,
   "metadata": {},
   "outputs": [
    {
     "name": "stdout",
     "output_type": "stream",
     "text": [
      "x= Global scope\n",
      " first function x= Local scope\n",
      " second function x= Nonlocal scope\n",
      " first function x= Nonlocal scope\n",
      "After fucntion call x= Global scope\n"
     ]
    }
   ],
   "source": [
    "def func1():\n",
    "    \n",
    "    x = \"Local scope\"\n",
    "\n",
    "    def funct2():\n",
    "        nonlocal x\n",
    "        # nonlocal used to reference the scope of the outside function\n",
    "        x = \"Nonlocal scope\"\n",
    "        print(f\" second function x= {x}\")\n",
    "    print(f\" first function x= {x}\")\n",
    "    funct2()\n",
    "    print(f\" first function x= {x}\")\n",
    "\n",
    "x= \"Global scope\"\n",
    "print(f\"x= {x}\")\n",
    "func1()\n",
    "print(f\"After fucntion call x= {x}\")"
   ]
  },
  {
   "cell_type": "code",
   "execution_count": 6,
   "metadata": {},
   "outputs": [
    {
     "name": "stdout",
     "output_type": "stream",
     "text": [
      "x= Global scope\n",
      "Fucntion call x= 1\n",
      " second function x= Local2 scope\n",
      " first function x= Local scope\n",
      "After fucntion call x= Global scope\n"
     ]
    }
   ],
   "source": [
    "def func1(y):\n",
    "    print(f\"Fucntion call x= {x}\")\n",
    "    global x\n",
    "    x = \"Local scope\"\n",
    "\n",
    "    def funct2():\n",
    "        # nonlocal x\n",
    "        # nonlocal used to reference the scope of the outside function\n",
    "        x = \"Local2 scope\"\n",
    "        print(f\" second function x= {x}\")\n",
    "    \n",
    "    funct2()\n",
    "    print(f\" first function x= {x}\")\n",
    "\n",
    "x= \"Global scope\"\n",
    "print(f\"x= {x}\")\n",
    "func1('1')\n",
    "print(f\"After fucntion call x= {x}\")"
   ]
  },
  {
   "cell_type": "code",
   "execution_count": null,
   "metadata": {},
   "outputs": [],
   "source": [
    "def func1():\n",
    "    global x\n",
    "    x = \"Local scope\"\n",
    "\n",
    "    def funct2():\n",
    "        nonlocal x\n",
    "        # nonlocal used to reference the scope of the outside function\n",
    "        x = \"Local2 scope\"\n",
    "        print(f\" second function x= {x}\")\n",
    "    \n",
    "    funct2()\n",
    "    print(f\" first function x= {x}\")\n",
    "\n",
    "x= \"Global scope\"\n",
    "print(f\"x= {x}\")\n",
    "func1()\n",
    "print(f\"After fucntion call x= {x}\")"
   ]
  }
 ],
 "metadata": {
  "kernelspec": {
   "display_name": "Python 3.9.12 ('base')",
   "language": "python",
   "name": "python3"
  },
  "language_info": {
   "codemirror_mode": {
    "name": "ipython",
    "version": 3
   },
   "file_extension": ".py",
   "mimetype": "text/x-python",
   "name": "python",
   "nbconvert_exporter": "python",
   "pygments_lexer": "ipython3",
   "version": "3.9.12"
  },
  "orig_nbformat": 4,
  "vscode": {
   "interpreter": {
    "hash": "b302cdd1e032ee910f5c889c3360c28564c92ad4f326fc3102e39fbe47faee66"
   }
  }
 },
 "nbformat": 4,
 "nbformat_minor": 2
}
